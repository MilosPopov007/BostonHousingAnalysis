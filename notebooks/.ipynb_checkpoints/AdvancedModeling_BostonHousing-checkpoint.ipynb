{
 "cells": [
  {
   "cell_type": "code",
   "execution_count": 6,
   "id": "dc69e00e",
   "metadata": {},
   "outputs": [
    {
     "data": {
      "text/html": [
       "<div>\n",
       "<style scoped>\n",
       "    .dataframe tbody tr th:only-of-type {\n",
       "        vertical-align: middle;\n",
       "    }\n",
       "\n",
       "    .dataframe tbody tr th {\n",
       "        vertical-align: top;\n",
       "    }\n",
       "\n",
       "    .dataframe thead th {\n",
       "        text-align: right;\n",
       "    }\n",
       "</style>\n",
       "<table border=\"1\" class=\"dataframe\">\n",
       "  <thead>\n",
       "    <tr style=\"text-align: right;\">\n",
       "      <th></th>\n",
       "      <th>crim</th>\n",
       "      <th>zn</th>\n",
       "      <th>indus</th>\n",
       "      <th>chas</th>\n",
       "      <th>nox</th>\n",
       "      <th>rm</th>\n",
       "      <th>age</th>\n",
       "      <th>dis</th>\n",
       "      <th>rad</th>\n",
       "      <th>tax</th>\n",
       "      <th>ptratio</th>\n",
       "      <th>b</th>\n",
       "      <th>lstat</th>\n",
       "      <th>medv</th>\n",
       "    </tr>\n",
       "  </thead>\n",
       "  <tbody>\n",
       "    <tr>\n",
       "      <th>0</th>\n",
       "      <td>0.00632</td>\n",
       "      <td>18.0</td>\n",
       "      <td>2.31</td>\n",
       "      <td>0</td>\n",
       "      <td>0.538</td>\n",
       "      <td>6.575</td>\n",
       "      <td>65.2</td>\n",
       "      <td>4.0900</td>\n",
       "      <td>1</td>\n",
       "      <td>296</td>\n",
       "      <td>15.3</td>\n",
       "      <td>396.90</td>\n",
       "      <td>4.98</td>\n",
       "      <td>24.0</td>\n",
       "    </tr>\n",
       "    <tr>\n",
       "      <th>1</th>\n",
       "      <td>0.02731</td>\n",
       "      <td>0.0</td>\n",
       "      <td>7.07</td>\n",
       "      <td>0</td>\n",
       "      <td>0.469</td>\n",
       "      <td>6.421</td>\n",
       "      <td>78.9</td>\n",
       "      <td>4.9671</td>\n",
       "      <td>2</td>\n",
       "      <td>242</td>\n",
       "      <td>17.8</td>\n",
       "      <td>396.90</td>\n",
       "      <td>9.14</td>\n",
       "      <td>21.6</td>\n",
       "    </tr>\n",
       "    <tr>\n",
       "      <th>2</th>\n",
       "      <td>0.02729</td>\n",
       "      <td>0.0</td>\n",
       "      <td>7.07</td>\n",
       "      <td>0</td>\n",
       "      <td>0.469</td>\n",
       "      <td>7.185</td>\n",
       "      <td>61.1</td>\n",
       "      <td>4.9671</td>\n",
       "      <td>2</td>\n",
       "      <td>242</td>\n",
       "      <td>17.8</td>\n",
       "      <td>392.83</td>\n",
       "      <td>4.03</td>\n",
       "      <td>34.7</td>\n",
       "    </tr>\n",
       "    <tr>\n",
       "      <th>3</th>\n",
       "      <td>0.03237</td>\n",
       "      <td>0.0</td>\n",
       "      <td>2.18</td>\n",
       "      <td>0</td>\n",
       "      <td>0.458</td>\n",
       "      <td>6.998</td>\n",
       "      <td>45.8</td>\n",
       "      <td>6.0622</td>\n",
       "      <td>3</td>\n",
       "      <td>222</td>\n",
       "      <td>18.7</td>\n",
       "      <td>394.63</td>\n",
       "      <td>2.94</td>\n",
       "      <td>33.4</td>\n",
       "    </tr>\n",
       "    <tr>\n",
       "      <th>4</th>\n",
       "      <td>0.06905</td>\n",
       "      <td>0.0</td>\n",
       "      <td>2.18</td>\n",
       "      <td>0</td>\n",
       "      <td>0.458</td>\n",
       "      <td>7.147</td>\n",
       "      <td>54.2</td>\n",
       "      <td>6.0622</td>\n",
       "      <td>3</td>\n",
       "      <td>222</td>\n",
       "      <td>18.7</td>\n",
       "      <td>396.90</td>\n",
       "      <td>5.33</td>\n",
       "      <td>36.2</td>\n",
       "    </tr>\n",
       "  </tbody>\n",
       "</table>\n",
       "</div>"
      ],
      "text/plain": [
       "      crim    zn  indus  chas    nox     rm   age     dis  rad  tax  ptratio  \\\n",
       "0  0.00632  18.0   2.31     0  0.538  6.575  65.2  4.0900    1  296     15.3   \n",
       "1  0.02731   0.0   7.07     0  0.469  6.421  78.9  4.9671    2  242     17.8   \n",
       "2  0.02729   0.0   7.07     0  0.469  7.185  61.1  4.9671    2  242     17.8   \n",
       "3  0.03237   0.0   2.18     0  0.458  6.998  45.8  6.0622    3  222     18.7   \n",
       "4  0.06905   0.0   2.18     0  0.458  7.147  54.2  6.0622    3  222     18.7   \n",
       "\n",
       "        b  lstat  medv  \n",
       "0  396.90   4.98  24.0  \n",
       "1  396.90   9.14  21.6  \n",
       "2  392.83   4.03  34.7  \n",
       "3  394.63   2.94  33.4  \n",
       "4  396.90   5.33  36.2  "
      ]
     },
     "execution_count": 6,
     "metadata": {},
     "output_type": "execute_result"
    }
   ],
   "source": [
    "# Importing necessary libraries\n",
    "import pandas as pd\n",
    "import numpy as np\n",
    "from sklearn.model_selection import train_test_split\n",
    "from sklearn.ensemble import RandomForestRegressor, GradientBoostingRegressor, StackingRegressor\n",
    "from sklearn.linear_model import LinearRegression\n",
    "from sklearn.svm import SVR\n",
    "from sklearn.metrics import mean_squared_error\n",
    "import matplotlib.pyplot as plt\n",
    "import seaborn as sns\n",
    "from sklearn.metrics import mean_squared_error, r2_score\n",
    "\n",
    "# Load the Boston Housing dataset\n",
    "file_path = r\"C:\\Users\\popov\\BostonHousingAnalysis\\data\\BostonHousing.csv\"\n",
    "df_original = pd.read_csv(file_path)\n",
    "\n",
    "# Display the first few rows to ensure the data is loaded correctly\n",
    "df_original.head()"
   ]
  },
  {
   "cell_type": "code",
   "execution_count": 7,
   "id": "7029e634",
   "metadata": {},
   "outputs": [
    {
     "name": "stdout",
     "output_type": "stream",
     "text": [
      "\n",
      "Shapes of the training and testing data:\n",
      "(404, 13) (102, 13) (404,) (102,)\n"
     ]
    }
   ],
   "source": [
    "# Splitting the data into features and target variable\n",
    "X = df_original.drop(columns='medv')\n",
    "y = df_original['medv']\n",
    "\n",
    "# Splitting the data into training and testing sets\n",
    "X_train, X_test, y_train, y_test = train_test_split(X, y, test_size=0.2, random_state=42)\n",
    "\n",
    "# Display the shapes to ensure everything is split correctly\n",
    "print(\"\\nShapes of the training and testing data:\")\n",
    "print(X_train.shape, X_test.shape, y_train.shape, y_test.shape)\n"
   ]
  },
  {
   "cell_type": "code",
   "execution_count": 8,
   "id": "7c3379af",
   "metadata": {},
   "outputs": [
    {
     "data": {
      "text/plain": [
       "GradientBoostingRegressor(random_state=42)"
      ]
     },
     "execution_count": 8,
     "metadata": {},
     "output_type": "execute_result"
    }
   ],
   "source": [
    "from sklearn.linear_model import LinearRegression\n",
    "from sklearn.ensemble import GradientBoostingRegressor\n",
    "\n",
    "# Initialize base models\n",
    "lr_model = LinearRegression()\n",
    "gb_model = GradientBoostingRegressor(random_state=42)\n",
    "\n",
    "# Train the models\n",
    "lr_model.fit(X_train, y_train)\n",
    "gb_model.fit(X_train, y_train)\n"
   ]
  },
  {
   "cell_type": "code",
   "execution_count": 9,
   "id": "4bc02d9b",
   "metadata": {},
   "outputs": [
    {
     "name": "stdout",
     "output_type": "stream",
     "text": [
      "Hybrid Model Performance:\n",
      "MSE: 11.409133707250962\n",
      "RMSE: 3.3777409177216304\n",
      "R2 Score: 0.8444218583090386\n"
     ]
    }
   ],
   "source": [
    "# Predictions\n",
    "lr_preds = lr_model.predict(X_test)\n",
    "gb_preds = gb_model.predict(X_test)\n",
    "\n",
    "# Averaging the predictions\n",
    "hybrid_preds = (lr_preds + gb_preds) / 2\n",
    "\n",
    "# Evaluating the Hybrid Model\n",
    "hybrid_mse = mean_squared_error(y_test, hybrid_preds)\n",
    "hybrid_rmse = np.sqrt(hybrid_mse)\n",
    "hybrid_r2 = r2_score(y_test, hybrid_preds)\n",
    "\n",
    "print(f\"Hybrid Model Performance:\\nMSE: {hybrid_mse}\\nRMSE: {hybrid_rmse}\\nR2 Score: {hybrid_r2}\")\n"
   ]
  },
  {
   "cell_type": "code",
   "execution_count": 10,
   "id": "d9aa63ce",
   "metadata": {},
   "outputs": [
    {
     "name": "stdout",
     "output_type": "stream",
     "text": [
      "Blended Model Performance:\n",
      "MSE: 11.409133707250962\n",
      "RMSE: 3.3777409177216304\n",
      "R2 Score: 0.8444218583090386\n"
     ]
    }
   ],
   "source": [
    "from sklearn.linear_model import LinearRegression\n",
    "from sklearn.ensemble import GradientBoostingRegressor\n",
    "from sklearn.metrics import mean_squared_error, r2_score\n",
    "\n",
    "# Initialize models\n",
    "linear_model = LinearRegression()\n",
    "gradient_boosting_model = GradientBoostingRegressor(random_state=42)\n",
    "\n",
    "# Train models\n",
    "linear_model.fit(X_train, y_train)\n",
    "gradient_boosting_model.fit(X_train, y_train)\n",
    "\n",
    "# Predictions\n",
    "linear_preds = linear_model.predict(X_test)\n",
    "gb_preds = gradient_boosting_model.predict(X_test)\n",
    "\n",
    "# Blend predictions\n",
    "# Here, we're giving equal weight to both models. This can be adjusted based on model performance or domain knowledge.\n",
    "blended_preds = 0.5 * linear_preds + 0.5 * gb_preds\n",
    "\n",
    "# Evaluate hybrid model\n",
    "blended_mse = mean_squared_error(y_test, blended_preds)\n",
    "blended_rmse = np.sqrt(blended_mse)\n",
    "blended_r2 = r2_score(y_test, blended_preds)\n",
    "\n",
    "print(f\"Blended Model Performance:\\nMSE: {blended_mse}\\nRMSE: {blended_rmse}\\nR2 Score: {blended_r2}\")\n"
   ]
  },
  {
   "cell_type": "code",
   "execution_count": 11,
   "id": "ef5b582c",
   "metadata": {},
   "outputs": [
    {
     "name": "stdout",
     "output_type": "stream",
     "text": [
      "Stacked Model Performance:\n",
      "MSE: 9.3394856689384\n",
      "RMSE: 3.0560572096965726\n",
      "R2 Score: 0.8726441584430421\n"
     ]
    }
   ],
   "source": [
    "# Import necessary libraries\n",
    "from sklearn.ensemble import StackingRegressor\n",
    "from sklearn.linear_model import LinearRegression\n",
    "from sklearn.ensemble import GradientBoostingRegressor\n",
    "from sklearn.svm import SVR\n",
    "\n",
    "# Define base models\n",
    "base_models = [\n",
    "    ('LinearRegression', LinearRegression()),\n",
    "    ('GradientBoostingRegressor', GradientBoostingRegressor()),\n",
    "    ('SVR', SVR())\n",
    "]\n",
    "\n",
    "# Define meta-model\n",
    "meta_model = GradientBoostingRegressor()\n",
    "\n",
    "# Define stacking regressor\n",
    "stacking_regressor = StackingRegressor(\n",
    "    estimators=base_models,\n",
    "    final_estimator=meta_model\n",
    ")\n",
    "\n",
    "# Train the stacking regressor\n",
    "stacking_regressor.fit(X_train, y_train)\n",
    "\n",
    "# Evaluate the model\n",
    "stacked_preds = stacking_regressor.predict(X_test)\n",
    "stacked_mse = mean_squared_error(y_test, stacked_preds)\n",
    "stacked_rmse = np.sqrt(stacked_mse)\n",
    "stacked_r2 = r2_score(y_test, stacked_preds)\n",
    "\n",
    "print(f\"Stacked Model Performance:\\nMSE: {stacked_mse}\\nRMSE: {stacked_rmse}\\nR2 Score: {stacked_r2}\")\n"
   ]
  },
  {
   "cell_type": "code",
   "execution_count": null,
   "id": "ba511a2d",
   "metadata": {},
   "outputs": [],
   "source": []
  }
 ],
 "metadata": {
  "kernelspec": {
   "display_name": "mlenv",
   "language": "python",
   "name": "mlenv"
  },
  "language_info": {
   "codemirror_mode": {
    "name": "ipython",
    "version": 3
   },
   "file_extension": ".py",
   "mimetype": "text/x-python",
   "name": "python",
   "nbconvert_exporter": "python",
   "pygments_lexer": "ipython3",
   "version": "3.7.13"
  }
 },
 "nbformat": 4,
 "nbformat_minor": 5
}
